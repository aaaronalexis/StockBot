{
  "nbformat": 4,
  "nbformat_minor": 0,
  "metadata": {
    "colab": {
      "provenance": [],
      "authorship_tag": "ABX9TyO3BwQoDtp334jurO2x1Yd4",
      "include_colab_link": true
    },
    "kernelspec": {
      "name": "python3",
      "display_name": "Python 3"
    },
    "language_info": {
      "name": "python"
    }
  },
  "cells": [
    {
      "cell_type": "markdown",
      "metadata": {
        "id": "view-in-github",
        "colab_type": "text"
      },
      "source": [
        "<a href=\"https://colab.research.google.com/github/aaaronalexis/StockBot/blob/main/stockBot.ipynb\" target=\"_parent\"><img src=\"https://colab.research.google.com/assets/colab-badge.svg\" alt=\"Open In Colab\"/></a>"
      ]
    },
    {
      "cell_type": "code",
      "execution_count": 1,
      "metadata": {
        "id": "wl0PuoOjIUE4"
      },
      "outputs": [],
      "source": [
        "#!pip install customtkinter\n",
        "#import customtkinter as ctk\n",
        "import numpy as np\n",
        "import matplotlib.pyplot as plt\n",
        "import pandas as pd\n",
        "import pandas_datareader as web\n",
        "import datetime as dt\n",
        "from sklearn.preprocessing import MinMaxScaler\n",
        "from tensorflow.keras.models import Sequential\n",
        "from tensorflow.keras.layers import Dense, Dropout, LSTM\n",
        "\n",
        "from pandas_datareader import data as pdr\n",
        "import yfinance as yfin\n",
        "yfin.pdr_override()"
      ]
    },
    {
      "cell_type": "code",
      "source": [
        "# ctk.set_appearance_mode('dark')\n",
        "# ctk.set_default_color_theme('dark-blue')\n",
        "\n",
        "# root = ctk.CTk()\n",
        "# root.geometry('500x350')\n",
        "\n",
        "# frame = ctk.CTkFrame(master = root)\n",
        "# frame.pack(pady=20, padx=60, fill='both', expand=True)\n",
        "\n",
        "#using GUI to imput company ticker\n",
        "# label = ctk.CTkLabel(master=frame, text='input company ticker: ', text_font=('Roboto', 24))\n",
        "# label.pack(pady=12, padx = 10 )\n",
        "\n",
        "# tckr = ctk.CTkEntry(master=frame, placeholder_text='Examples: AAPL, META, AMZN ...ect')\n",
        "\n",
        "#imput company ticker\n",
        "tckr = input('imput company ticker: ')\n",
        "company = tckr\n",
        "\n",
        "# #using GUI to imput company ticker\n",
        "# label = ctk.CTkLabel(master=frame, text='Enter a start date for historical data in YYYYMMDD or type \"S\" for the standard date setting of 2015,1,1 ', text_font=('Roboto', 24))\n",
        "\n",
        "#imput of start date and end data of historical data\n",
        "inStart = input('Enter a start date for historical data in YYYYMMDD or type \"S\" for the standard date setting of 2015,1,1')\n",
        "if (inStart == 'S'):\n",
        "  start = dt.datetime(2015,1,1)\n",
        "else :\n",
        "  start = dt.datetime.strptime(inStart, '%Y%m%d')\n",
        "inEnd = input('Enter a end date for historical data in YYYYMMDD or type \"S\" for the standard date setting of now')\n",
        "if (inStart == 'S'):\n",
        "  end = dt.datetime.now()\n",
        "else :\n",
        "  end = dt.datetime.strptime(inEnd, '%Y%m%d')\n",
        "\n",
        "#pulling historical data from the yfinance API\n",
        "data = pdr.get_data_yahoo(company, start, end)\n",
        "\n",
        "print(data)\n",
        "YoN = input('Select Y or N if you want scaling range to depend on the defualt, Close. The other options are the columns in the data chart')\n",
        "if(YoN=='Y'):\n",
        "  choose = input('Enter your choice: ')\n",
        "else :\n",
        "  choose = 'Close'\n",
        "#scaling range from 0 to 1\n",
        "scaler = MinMaxScaler(feature_range=(0,1))\n",
        "scaled_data = scaler.fit_transform(data[choose].values.reshape(-1,1))\n",
        "\n",
        "#setting amount of training data\n",
        "prediction_days = int(input('Enter wanted amount of traing days. 60 days recommendation'))\n",
        "\n",
        "#creating arrays for training data\n",
        "x_train = []\n",
        "y_train = []\n",
        "\n",
        "#filling arrays in for training data\n",
        "for x in range(prediction_days, len(scaled_data)):\n",
        "  x_train.append(scaled_data[x-prediction_days:x, 0])\n",
        "  y_train.append(scaled_data[x, 0])\n",
        "\n",
        "\n",
        "#coverting to numpy arrays\n",
        "x_train, y_train = np.array(x_train), np.array(y_train)\n",
        "x_train = np.reshape(x_train, (x_train.shape[0], x_train.shape[1], 1))\n",
        "\n",
        "#build model\n",
        "model = Sequential()\n",
        "\n",
        "#Making the layers with a dropout layers with backprop\n",
        "YoN = input('Do you want to change standard amounts of input layers and settings. \"Y\" or \"N\" ')\n",
        "if (YoN=='Y'):\n",
        "  HowMany = int(input('How many layers do you want for this model recommend 3'))\n",
        "  HowMany = HowMany - 1\n",
        "  InpUnits = int(input('How many units do you want in this layer recommend 50. Too high might cause over fitting problems'))\n",
        "  model.add(LSTM(units=InpUnits, return_sequences=True, input_shape=(x_train.shape[1], 1)))\n",
        "  InpUnits = float(input('Enter dropout rate. reccomended \"0.2\". The dropout rate indicates the fraction of input units that will be randomly set to 0 during training. This helps to prevent overfitting by introducing randomness and reducing the reliance on any one feature or neuron.'))\n",
        "  model.add(Dropout(InpUnits))\n",
        "  for n in range(HowMany) :\n",
        "    InpUnits = int(input('How many units do you want in this layer recommend 50'))\n",
        "    model.add(LSTM(units=InpUnits, return_sequences=True))\n",
        "    InpUnits = float(input('Enter dropout rate. reccomended \"0.2\". The dropout rate indicates the fraction of input units that will be randomly set to 0 during training. This helps to prevent overfitting by introducing randomness and reducing the reliance on any one feature or neuron.'))\n",
        "    model.add(Dropout(InpUnits))\n",
        "\n",
        "  InpUnits = int(input('How many units do you want in this layer recommend 50. Too high might cause over fitting problems'))\n",
        "  model.add(LSTM(units=InpUnits))\n",
        "  InpUnits = float(input('Enter dropout rate. reccomended \"0.2\". The dropout rate indicates the fraction of input units that will be randomly set to 0 during training. This helps to prevent overfitting by introducing randomness and reducing the reliance on any one feature or neuron.'))\n",
        "  model.add(Dropout(InpUnits))\n",
        "else:\n",
        "  model.add(LSTM(units=50, return_sequences=True, input_shape=(x_train.shape[1], 1)))\n",
        "  model.add(Dropout(0.2))\n",
        "  model.add(LSTM(units=50, return_sequences=True))\n",
        "  model.add(Dropout(0.2))\n",
        "  model.add(LSTM(units=50))\n",
        "  model.add(Dropout(0.2))\n",
        "\n",
        "#pritiction of the next price ********\n",
        "model.add(Dense(units=1))\n",
        "\n",
        "#adam or SGD optimizer\n",
        "optmzr = input('enter adam or SGD optimizer ')\n",
        "model.compile(optimizer= optmzr , loss='mean_squared_error')\n",
        "\n",
        "#how many times the model see the data epoch. batch_size is at what size the model see the data\n",
        "opt = int(input(\"enter epochs size. recommendation is 25\"))\n",
        "opt2 = int(input(\"enter batch size recomendation is 32\"))\n",
        "model.fit(x_train, y_train, epochs=opt, batch_size=opt2)\n",
        "\n",
        "#test model on data that it has never seen before\n",
        "\n",
        "test_start = dt.datetime(2022,1,1)\n",
        "test_end = dt.datetime.now()\n",
        "\n",
        "test_data = pdr.get_data_yahoo(company, test_start, test_end)\n",
        "actual_prices = test_data[choose].values\n",
        "\n",
        "total_dataset = pd.concat((data[choose], test_data[choose]), axis=0)\n",
        "\n",
        "model_input = total_dataset[len(total_dataset)- len(test_data)- prediction_days:].values\n",
        "model_input = model_input.reshape(-1,1)\n",
        "model_input= scaler.transform(model_input)\n",
        "\n",
        "\n",
        "# make predictions on test data\n",
        "x_test = []\n",
        "\n",
        "for x in range(prediction_days, len(model_input)):\n",
        "  x_test.append(model_input[x-prediction_days:x, 0])\n",
        "\n",
        "x_test = np.array(x_test)\n",
        "x_test= np.reshape(x_test, (x_test.shape[0], x_test.shape[1], 1))\n",
        "\n",
        "prediction_prices = model.predict(x_test)\n",
        "prediction_prices = scaler.inverse_transform(prediction_prices)\n",
        "\n",
        "#plot data\n",
        "\n",
        "plt.plot(actual_prices, color= 'black', label=f\"Actual {company} Price\")\n",
        "plt.plot(prediction_prices, color= 'green', label=f\"Predicted {company} Price\")\n",
        "plt.title(f\"{company} Share Price\")\n",
        "plt.xlabel('Date')\n",
        "plt.ylabel(f\"{company}Share Price\")\n",
        "plt.legend()\n",
        "plt.show()\n",
        "\n",
        "#root.mainloop()"
      ],
      "metadata": {
        "colab": {
          "base_uri": "https://localhost:8080/",
          "height": 421
        },
        "id": "tHOTuSr7JK24",
        "outputId": "f734fd82-1ad2-4e1a-8398-5191af449211"
      },
      "execution_count": 2,
      "outputs": [
        {
          "name": "stdout",
          "output_type": "stream",
          "text": [
            "imput company ticker: AAPL\n"
          ]
        },
        {
          "output_type": "error",
          "ename": "KeyboardInterrupt",
          "evalue": "ignored",
          "traceback": [
            "\u001b[0;31m---------------------------------------------------------------------------\u001b[0m",
            "\u001b[0;31mKeyboardInterrupt\u001b[0m                         Traceback (most recent call last)",
            "\u001b[0;32m<ipython-input-2-480fb15d61d7>\u001b[0m in \u001b[0;36m<cell line: 24>\u001b[0;34m()\u001b[0m\n\u001b[1;32m     22\u001b[0m \u001b[0;34m\u001b[0m\u001b[0m\n\u001b[1;32m     23\u001b[0m \u001b[0;31m#imput of start date and end data of historical data\u001b[0m\u001b[0;34m\u001b[0m\u001b[0;34m\u001b[0m\u001b[0m\n\u001b[0;32m---> 24\u001b[0;31m \u001b[0minStart\u001b[0m \u001b[0;34m=\u001b[0m \u001b[0minput\u001b[0m\u001b[0;34m(\u001b[0m\u001b[0;34m'Enter a start date for historical data in YYYYMMDD or type \"S\" for the standard date setting of 2015,1,1'\u001b[0m\u001b[0;34m)\u001b[0m\u001b[0;34m\u001b[0m\u001b[0;34m\u001b[0m\u001b[0m\n\u001b[0m\u001b[1;32m     25\u001b[0m \u001b[0;32mif\u001b[0m \u001b[0;34m(\u001b[0m\u001b[0minStart\u001b[0m \u001b[0;34m==\u001b[0m \u001b[0;34m'S'\u001b[0m\u001b[0;34m)\u001b[0m\u001b[0;34m:\u001b[0m\u001b[0;34m\u001b[0m\u001b[0;34m\u001b[0m\u001b[0m\n\u001b[1;32m     26\u001b[0m   \u001b[0mstart\u001b[0m \u001b[0;34m=\u001b[0m \u001b[0mdt\u001b[0m\u001b[0;34m.\u001b[0m\u001b[0mdatetime\u001b[0m\u001b[0;34m(\u001b[0m\u001b[0;36m2015\u001b[0m\u001b[0;34m,\u001b[0m\u001b[0;36m1\u001b[0m\u001b[0;34m,\u001b[0m\u001b[0;36m1\u001b[0m\u001b[0;34m)\u001b[0m\u001b[0;34m\u001b[0m\u001b[0;34m\u001b[0m\u001b[0m\n",
            "\u001b[0;32m/usr/local/lib/python3.10/dist-packages/ipykernel/kernelbase.py\u001b[0m in \u001b[0;36mraw_input\u001b[0;34m(self, prompt)\u001b[0m\n\u001b[1;32m    849\u001b[0m                 \u001b[0;34m\"raw_input was called, but this frontend does not support input requests.\"\u001b[0m\u001b[0;34m\u001b[0m\u001b[0;34m\u001b[0m\u001b[0m\n\u001b[1;32m    850\u001b[0m             )\n\u001b[0;32m--> 851\u001b[0;31m         return self._input_request(str(prompt),\n\u001b[0m\u001b[1;32m    852\u001b[0m             \u001b[0mself\u001b[0m\u001b[0;34m.\u001b[0m\u001b[0m_parent_ident\u001b[0m\u001b[0;34m,\u001b[0m\u001b[0;34m\u001b[0m\u001b[0;34m\u001b[0m\u001b[0m\n\u001b[1;32m    853\u001b[0m             \u001b[0mself\u001b[0m\u001b[0;34m.\u001b[0m\u001b[0m_parent_header\u001b[0m\u001b[0;34m,\u001b[0m\u001b[0;34m\u001b[0m\u001b[0;34m\u001b[0m\u001b[0m\n",
            "\u001b[0;32m/usr/local/lib/python3.10/dist-packages/ipykernel/kernelbase.py\u001b[0m in \u001b[0;36m_input_request\u001b[0;34m(self, prompt, ident, parent, password)\u001b[0m\n\u001b[1;32m    893\u001b[0m             \u001b[0;32mexcept\u001b[0m \u001b[0mKeyboardInterrupt\u001b[0m\u001b[0;34m:\u001b[0m\u001b[0;34m\u001b[0m\u001b[0;34m\u001b[0m\u001b[0m\n\u001b[1;32m    894\u001b[0m                 \u001b[0;31m# re-raise KeyboardInterrupt, to truncate traceback\u001b[0m\u001b[0;34m\u001b[0m\u001b[0;34m\u001b[0m\u001b[0m\n\u001b[0;32m--> 895\u001b[0;31m                 \u001b[0;32mraise\u001b[0m \u001b[0mKeyboardInterrupt\u001b[0m\u001b[0;34m(\u001b[0m\u001b[0;34m\"Interrupted by user\"\u001b[0m\u001b[0;34m)\u001b[0m \u001b[0;32mfrom\u001b[0m \u001b[0;32mNone\u001b[0m\u001b[0;34m\u001b[0m\u001b[0;34m\u001b[0m\u001b[0m\n\u001b[0m\u001b[1;32m    896\u001b[0m             \u001b[0;32mexcept\u001b[0m \u001b[0mException\u001b[0m \u001b[0;32mas\u001b[0m \u001b[0me\u001b[0m\u001b[0;34m:\u001b[0m\u001b[0;34m\u001b[0m\u001b[0;34m\u001b[0m\u001b[0m\n\u001b[1;32m    897\u001b[0m                 \u001b[0mself\u001b[0m\u001b[0;34m.\u001b[0m\u001b[0mlog\u001b[0m\u001b[0;34m.\u001b[0m\u001b[0mwarning\u001b[0m\u001b[0;34m(\u001b[0m\u001b[0;34m\"Invalid Message:\"\u001b[0m\u001b[0;34m,\u001b[0m \u001b[0mexc_info\u001b[0m\u001b[0;34m=\u001b[0m\u001b[0;32mTrue\u001b[0m\u001b[0;34m)\u001b[0m\u001b[0;34m\u001b[0m\u001b[0;34m\u001b[0m\u001b[0m\n",
            "\u001b[0;31mKeyboardInterrupt\u001b[0m: Interrupted by user"
          ]
        }
      ]
    },
    {
      "cell_type": "code",
      "source": [
        "#predict next day\n",
        "\n",
        "real_data = [model_input[len(model_input) + 1 - prediction_days:len(model_input+1), 0]]\n",
        "real_data = np.array(real_data)\n",
        "real_data = np.reshape(real_data, (real_data.shape[0], real_data.shape[1], 1))\n",
        "\n",
        "prediction = model.predict(real_data)\n",
        "prediction = scaler.inverse_transform(prediction)\n",
        "print(f\"Prediction: {prediction}\")"
      ],
      "metadata": {
        "colab": {
          "base_uri": "https://localhost:8080/"
        },
        "id": "MZxgOrzGItD2",
        "outputId": "fbd85f3e-a6ff-4b7d-cc29-bdbfb0757c00"
      },
      "execution_count": null,
      "outputs": [
        {
          "output_type": "stream",
          "name": "stdout",
          "text": [
            "1/1 [==============================] - 1s 1s/step\n",
            "Prediction: [[177.7745]]\n"
          ]
        }
      ]
    },
    {
      "cell_type": "code",
      "source": [
        "f\"{company}Share Price\""
      ],
      "metadata": {
        "id": "tbgseUYdLsSa",
        "colab": {
          "base_uri": "https://localhost:8080/",
          "height": 36
        },
        "outputId": "501fdb4c-51a4-4f73-b39f-a15e0794fff9"
      },
      "execution_count": null,
      "outputs": [
        {
          "output_type": "execute_result",
          "data": {
            "text/plain": [
              "'AAPLShare Price'"
            ],
            "application/vnd.google.colaboratory.intrinsic+json": {
              "type": "string"
            }
          },
          "metadata": {},
          "execution_count": 24
        }
      ]
    },
    {
      "cell_type": "code",
      "source": [],
      "metadata": {
        "id": "6aNF7rEzQPgU"
      },
      "execution_count": null,
      "outputs": []
    }
  ]
}